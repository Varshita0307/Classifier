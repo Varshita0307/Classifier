{
 "cells": [
  {
   "cell_type": "code",
   "execution_count": 65,
   "metadata": {},
   "outputs": [],
   "source": [
    "import numpy as np\n",
    "import os\n",
    "import time\n",
    "from keras.applications import VGG16\n",
    "from keras.preprocessing import image\n",
    "from keras.applications.vgg16 import preprocess_input\n",
    "from keras.layers import Dense, Activation, Flatten\n",
    "from keras.layers import merge, Input\n",
    "from keras.models import Model,Sequential\n",
    "from keras.utils import np_utils\n",
    "from sklearn.utils import shuffle\n",
    "from sklearn.model_selection import train_test_split\n",
    "from keras.preprocessing.image import ImageDataGenerator\n",
    "from sklearn.metrics import classification_report\n",
    "from sklearn.preprocessing import LabelBinarizer"
   ]
  },
  {
   "cell_type": "code",
   "execution_count": 5,
   "metadata": {},
   "outputs": [
    {
     "name": "stdout",
     "output_type": "stream",
     "text": [
      "(112, 112, 3)\n",
      "(1, 112, 112, 3)\n",
      "Input image shape: (1, 112, 112, 3)\n"
     ]
    }
   ],
   "source": [
    "img_path = '/home/varshi/Desktop/asaa.jpg'\n",
    "img = image.load_img(img_path, target_size=(112, 112))\n",
    "x = image.img_to_array(img)\n",
    "print (x.shape)\n",
    "x = np.expand_dims(x, axis=0)\n",
    "print (x.shape)\n",
    "x = preprocess_input(x)\n",
    "print('Input image shape:', x.shape)"
   ]
  },
  {
   "cell_type": "code",
   "execution_count": 6,
   "metadata": {},
   "outputs": [],
   "source": [
    "data_path = '/home/varshi/Documents/hand/Data'"
   ]
  },
  {
   "cell_type": "code",
   "execution_count": 7,
   "metadata": {},
   "outputs": [],
   "source": [
    "data_dir_list = os.listdir(data_path)"
   ]
  },
  {
   "cell_type": "code",
   "execution_count": 8,
   "metadata": {},
   "outputs": [],
   "source": [
    "img_data_list=[]"
   ]
  },
  {
   "cell_type": "code",
   "execution_count": 9,
   "metadata": {},
   "outputs": [
    {
     "name": "stdout",
     "output_type": "stream",
     "text": [
      "Loaded the images of dataset-Empty\n",
      "\n",
      "Input image shape: (1, 112, 112, 3)\n",
      "Input image shape: (1, 112, 112, 3)\n",
      "Input image shape: (1, 112, 112, 3)\n",
      "Input image shape: (1, 112, 112, 3)\n",
      "Input image shape: (1, 112, 112, 3)\n",
      "Input image shape: (1, 112, 112, 3)\n",
      "Input image shape: (1, 112, 112, 3)\n",
      "Input image shape: (1, 112, 112, 3)\n",
      "Input image shape: (1, 112, 112, 3)\n",
      "Input image shape: (1, 112, 112, 3)\n",
      "Input image shape: (1, 112, 112, 3)\n",
      "Input image shape: (1, 112, 112, 3)\n",
      "Input image shape: (1, 112, 112, 3)\n",
      "Input image shape: (1, 112, 112, 3)\n",
      "Input image shape: (1, 112, 112, 3)\n",
      "Input image shape: (1, 112, 112, 3)\n",
      "Input image shape: (1, 112, 112, 3)\n",
      "Input image shape: (1, 112, 112, 3)\n",
      "Input image shape: (1, 112, 112, 3)\n",
      "Input image shape: (1, 112, 112, 3)\n",
      "Input image shape: (1, 112, 112, 3)\n",
      "Input image shape: (1, 112, 112, 3)\n",
      "Input image shape: (1, 112, 112, 3)\n",
      "Input image shape: (1, 112, 112, 3)\n",
      "Input image shape: (1, 112, 112, 3)\n",
      "Input image shape: (1, 112, 112, 3)\n",
      "Input image shape: (1, 112, 112, 3)\n",
      "Input image shape: (1, 112, 112, 3)\n",
      "Input image shape: (1, 112, 112, 3)\n",
      "Input image shape: (1, 112, 112, 3)\n",
      "Input image shape: (1, 112, 112, 3)\n",
      "Input image shape: (1, 112, 112, 3)\n",
      "Input image shape: (1, 112, 112, 3)\n",
      "Input image shape: (1, 112, 112, 3)\n",
      "Input image shape: (1, 112, 112, 3)\n",
      "Input image shape: (1, 112, 112, 3)\n",
      "Input image shape: (1, 112, 112, 3)\n",
      "Input image shape: (1, 112, 112, 3)\n",
      "Input image shape: (1, 112, 112, 3)\n",
      "Input image shape: (1, 112, 112, 3)\n",
      "Input image shape: (1, 112, 112, 3)\n",
      "Input image shape: (1, 112, 112, 3)\n",
      "Input image shape: (1, 112, 112, 3)\n",
      "Input image shape: (1, 112, 112, 3)\n",
      "Input image shape: (1, 112, 112, 3)\n",
      "Input image shape: (1, 112, 112, 3)\n",
      "Input image shape: (1, 112, 112, 3)\n",
      "Input image shape: (1, 112, 112, 3)\n",
      "Input image shape: (1, 112, 112, 3)\n",
      "Input image shape: (1, 112, 112, 3)\n",
      "Input image shape: (1, 112, 112, 3)\n",
      "Input image shape: (1, 112, 112, 3)\n",
      "Input image shape: (1, 112, 112, 3)\n",
      "Input image shape: (1, 112, 112, 3)\n",
      "Input image shape: (1, 112, 112, 3)\n",
      "Input image shape: (1, 112, 112, 3)\n",
      "Input image shape: (1, 112, 112, 3)\n",
      "Input image shape: (1, 112, 112, 3)\n",
      "Input image shape: (1, 112, 112, 3)\n",
      "Input image shape: (1, 112, 112, 3)\n",
      "Input image shape: (1, 112, 112, 3)\n",
      "Input image shape: (1, 112, 112, 3)\n",
      "Input image shape: (1, 112, 112, 3)\n",
      "Input image shape: (1, 112, 112, 3)\n",
      "Input image shape: (1, 112, 112, 3)\n",
      "Input image shape: (1, 112, 112, 3)\n",
      "Input image shape: (1, 112, 112, 3)\n",
      "Input image shape: (1, 112, 112, 3)\n",
      "Input image shape: (1, 112, 112, 3)\n",
      "Input image shape: (1, 112, 112, 3)\n",
      "Input image shape: (1, 112, 112, 3)\n",
      "Input image shape: (1, 112, 112, 3)\n",
      "Input image shape: (1, 112, 112, 3)\n",
      "Input image shape: (1, 112, 112, 3)\n",
      "Input image shape: (1, 112, 112, 3)\n",
      "Input image shape: (1, 112, 112, 3)\n",
      "Input image shape: (1, 112, 112, 3)\n",
      "Input image shape: (1, 112, 112, 3)\n",
      "Input image shape: (1, 112, 112, 3)\n",
      "Input image shape: (1, 112, 112, 3)\n",
      "Input image shape: (1, 112, 112, 3)\n",
      "Input image shape: (1, 112, 112, 3)\n",
      "Input image shape: (1, 112, 112, 3)\n",
      "Input image shape: (1, 112, 112, 3)\n",
      "Input image shape: (1, 112, 112, 3)\n",
      "Input image shape: (1, 112, 112, 3)\n",
      "Input image shape: (1, 112, 112, 3)\n",
      "Input image shape: (1, 112, 112, 3)\n",
      "Input image shape: (1, 112, 112, 3)\n",
      "Input image shape: (1, 112, 112, 3)\n",
      "Input image shape: (1, 112, 112, 3)\n",
      "Input image shape: (1, 112, 112, 3)\n",
      "Input image shape: (1, 112, 112, 3)\n",
      "Input image shape: (1, 112, 112, 3)\n",
      "Input image shape: (1, 112, 112, 3)\n",
      "Input image shape: (1, 112, 112, 3)\n",
      "Input image shape: (1, 112, 112, 3)\n",
      "Input image shape: (1, 112, 112, 3)\n",
      "Input image shape: (1, 112, 112, 3)\n",
      "Input image shape: (1, 112, 112, 3)\n",
      "Input image shape: (1, 112, 112, 3)\n",
      "Input image shape: (1, 112, 112, 3)\n",
      "Input image shape: (1, 112, 112, 3)\n",
      "Input image shape: (1, 112, 112, 3)\n",
      "Input image shape: (1, 112, 112, 3)\n",
      "Input image shape: (1, 112, 112, 3)\n",
      "Input image shape: (1, 112, 112, 3)\n",
      "Input image shape: (1, 112, 112, 3)\n",
      "Input image shape: (1, 112, 112, 3)\n",
      "Input image shape: (1, 112, 112, 3)\n",
      "Input image shape: (1, 112, 112, 3)\n",
      "Input image shape: (1, 112, 112, 3)\n",
      "Input image shape: (1, 112, 112, 3)\n",
      "Input image shape: (1, 112, 112, 3)\n",
      "Input image shape: (1, 112, 112, 3)\n",
      "Input image shape: (1, 112, 112, 3)\n",
      "Input image shape: (1, 112, 112, 3)\n",
      "Input image shape: (1, 112, 112, 3)\n",
      "Input image shape: (1, 112, 112, 3)\n",
      "Input image shape: (1, 112, 112, 3)\n",
      "Input image shape: (1, 112, 112, 3)\n",
      "Loaded the images of dataset-Product Picked\n",
      "\n",
      "Input image shape: (1, 112, 112, 3)\n",
      "Input image shape: (1, 112, 112, 3)\n",
      "Input image shape: (1, 112, 112, 3)\n",
      "Input image shape: (1, 112, 112, 3)\n",
      "Input image shape: (1, 112, 112, 3)\n",
      "Input image shape: (1, 112, 112, 3)\n",
      "Input image shape: (1, 112, 112, 3)\n",
      "Input image shape: (1, 112, 112, 3)\n",
      "Input image shape: (1, 112, 112, 3)\n",
      "Input image shape: (1, 112, 112, 3)\n",
      "Input image shape: (1, 112, 112, 3)\n",
      "Input image shape: (1, 112, 112, 3)\n",
      "Input image shape: (1, 112, 112, 3)\n",
      "Input image shape: (1, 112, 112, 3)\n",
      "Input image shape: (1, 112, 112, 3)\n",
      "Input image shape: (1, 112, 112, 3)\n",
      "Input image shape: (1, 112, 112, 3)\n",
      "Input image shape: (1, 112, 112, 3)\n",
      "Input image shape: (1, 112, 112, 3)\n",
      "Input image shape: (1, 112, 112, 3)\n",
      "Input image shape: (1, 112, 112, 3)\n",
      "Input image shape: (1, 112, 112, 3)\n",
      "Input image shape: (1, 112, 112, 3)\n",
      "Input image shape: (1, 112, 112, 3)\n",
      "Input image shape: (1, 112, 112, 3)\n",
      "Input image shape: (1, 112, 112, 3)\n",
      "Input image shape: (1, 112, 112, 3)\n",
      "Input image shape: (1, 112, 112, 3)\n",
      "Input image shape: (1, 112, 112, 3)\n",
      "Input image shape: (1, 112, 112, 3)\n",
      "Input image shape: (1, 112, 112, 3)\n",
      "Input image shape: (1, 112, 112, 3)\n",
      "Input image shape: (1, 112, 112, 3)\n",
      "Input image shape: (1, 112, 112, 3)\n",
      "Input image shape: (1, 112, 112, 3)\n",
      "Input image shape: (1, 112, 112, 3)\n",
      "Input image shape: (1, 112, 112, 3)\n",
      "Input image shape: (1, 112, 112, 3)\n",
      "Input image shape: (1, 112, 112, 3)\n",
      "Input image shape: (1, 112, 112, 3)\n",
      "Input image shape: (1, 112, 112, 3)\n",
      "Input image shape: (1, 112, 112, 3)\n",
      "Input image shape: (1, 112, 112, 3)\n",
      "Input image shape: (1, 112, 112, 3)\n",
      "Input image shape: (1, 112, 112, 3)\n",
      "Input image shape: (1, 112, 112, 3)\n",
      "Input image shape: (1, 112, 112, 3)\n",
      "Input image shape: (1, 112, 112, 3)\n",
      "Input image shape: (1, 112, 112, 3)\n",
      "Input image shape: (1, 112, 112, 3)\n",
      "Input image shape: (1, 112, 112, 3)\n",
      "Input image shape: (1, 112, 112, 3)\n",
      "Input image shape: (1, 112, 112, 3)\n",
      "Input image shape: (1, 112, 112, 3)\n",
      "Input image shape: (1, 112, 112, 3)\n",
      "Input image shape: (1, 112, 112, 3)\n",
      "Input image shape: (1, 112, 112, 3)\n",
      "Input image shape: (1, 112, 112, 3)\n",
      "Input image shape: (1, 112, 112, 3)\n",
      "Input image shape: (1, 112, 112, 3)\n",
      "Input image shape: (1, 112, 112, 3)\n",
      "Input image shape: (1, 112, 112, 3)\n",
      "Input image shape: (1, 112, 112, 3)\n",
      "Input image shape: (1, 112, 112, 3)\n",
      "Input image shape: (1, 112, 112, 3)\n",
      "Input image shape: (1, 112, 112, 3)\n",
      "Input image shape: (1, 112, 112, 3)\n",
      "Input image shape: (1, 112, 112, 3)\n",
      "Input image shape: (1, 112, 112, 3)\n",
      "Input image shape: (1, 112, 112, 3)\n",
      "Input image shape: (1, 112, 112, 3)\n",
      "Input image shape: (1, 112, 112, 3)\n",
      "Input image shape: (1, 112, 112, 3)\n",
      "Input image shape: (1, 112, 112, 3)\n",
      "Input image shape: (1, 112, 112, 3)\n",
      "Input image shape: (1, 112, 112, 3)\n",
      "Input image shape: (1, 112, 112, 3)\n",
      "Input image shape: (1, 112, 112, 3)\n",
      "Input image shape: (1, 112, 112, 3)\n",
      "Input image shape: (1, 112, 112, 3)\n",
      "Input image shape: (1, 112, 112, 3)\n",
      "Input image shape: (1, 112, 112, 3)\n",
      "Input image shape: (1, 112, 112, 3)\n",
      "Input image shape: (1, 112, 112, 3)\n",
      "Input image shape: (1, 112, 112, 3)\n",
      "Input image shape: (1, 112, 112, 3)\n",
      "Input image shape: (1, 112, 112, 3)\n",
      "Input image shape: (1, 112, 112, 3)\n",
      "Input image shape: (1, 112, 112, 3)\n",
      "Input image shape: (1, 112, 112, 3)\n",
      "Input image shape: (1, 112, 112, 3)\n",
      "Input image shape: (1, 112, 112, 3)\n",
      "Input image shape: (1, 112, 112, 3)\n",
      "Input image shape: (1, 112, 112, 3)\n",
      "Input image shape: (1, 112, 112, 3)\n",
      "Input image shape: (1, 112, 112, 3)\n",
      "Input image shape: (1, 112, 112, 3)\n",
      "Input image shape: (1, 112, 112, 3)\n",
      "Input image shape: (1, 112, 112, 3)\n",
      "Input image shape: (1, 112, 112, 3)\n",
      "Input image shape: (1, 112, 112, 3)\n",
      "Input image shape: (1, 112, 112, 3)\n",
      "Input image shape: (1, 112, 112, 3)\n",
      "Input image shape: (1, 112, 112, 3)\n",
      "Input image shape: (1, 112, 112, 3)\n",
      "Input image shape: (1, 112, 112, 3)\n",
      "Input image shape: (1, 112, 112, 3)\n",
      "Input image shape: (1, 112, 112, 3)\n",
      "Input image shape: (1, 112, 112, 3)\n",
      "Input image shape: (1, 112, 112, 3)\n",
      "Input image shape: (1, 112, 112, 3)\n",
      "Input image shape: (1, 112, 112, 3)\n",
      "Input image shape: (1, 112, 112, 3)\n",
      "Input image shape: (1, 112, 112, 3)\n",
      "Input image shape: (1, 112, 112, 3)\n",
      "Input image shape: (1, 112, 112, 3)\n"
     ]
    },
    {
     "name": "stdout",
     "output_type": "stream",
     "text": [
      "Input image shape: (1, 112, 112, 3)\n",
      "Input image shape: (1, 112, 112, 3)\n",
      "Input image shape: (1, 112, 112, 3)\n",
      "Input image shape: (1, 112, 112, 3)\n",
      "Input image shape: (1, 112, 112, 3)\n",
      "Input image shape: (1, 112, 112, 3)\n",
      "Input image shape: (1, 112, 112, 3)\n",
      "Input image shape: (1, 112, 112, 3)\n",
      "Input image shape: (1, 112, 112, 3)\n",
      "Input image shape: (1, 112, 112, 3)\n",
      "Input image shape: (1, 112, 112, 3)\n",
      "Input image shape: (1, 112, 112, 3)\n",
      "Input image shape: (1, 112, 112, 3)\n",
      "Input image shape: (1, 112, 112, 3)\n",
      "Input image shape: (1, 112, 112, 3)\n",
      "Input image shape: (1, 112, 112, 3)\n",
      "Input image shape: (1, 112, 112, 3)\n",
      "Input image shape: (1, 112, 112, 3)\n",
      "Input image shape: (1, 112, 112, 3)\n",
      "Input image shape: (1, 112, 112, 3)\n",
      "Input image shape: (1, 112, 112, 3)\n",
      "Input image shape: (1, 112, 112, 3)\n",
      "Input image shape: (1, 112, 112, 3)\n",
      "Input image shape: (1, 112, 112, 3)\n",
      "Input image shape: (1, 112, 112, 3)\n",
      "Input image shape: (1, 112, 112, 3)\n",
      "Input image shape: (1, 112, 112, 3)\n",
      "Input image shape: (1, 112, 112, 3)\n",
      "Input image shape: (1, 112, 112, 3)\n",
      "Input image shape: (1, 112, 112, 3)\n",
      "Input image shape: (1, 112, 112, 3)\n",
      "Input image shape: (1, 112, 112, 3)\n",
      "Input image shape: (1, 112, 112, 3)\n",
      "Input image shape: (1, 112, 112, 3)\n",
      "Input image shape: (1, 112, 112, 3)\n",
      "Input image shape: (1, 112, 112, 3)\n"
     ]
    }
   ],
   "source": [
    "for dataset in data_dir_list:\n",
    "\timg_list=os.listdir('/home/varshi/Documents/hand/Data'+'/'+dataset)\n",
    "\tprint ('Loaded the images of dataset-'+'{}\\n'.format(dataset))\n",
    "\tfor img in img_list:\n",
    "\t\timg_path = data_path + '/'+ dataset + '/'+ img\n",
    "\t\timg = image.load_img(img_path, target_size=(112, 112))\n",
    "\t\tx = image.img_to_array(img)\n",
    "\t\tx = np.expand_dims(x, axis=0)\n",
    "\t\tx = preprocess_input(x)\n",
    "#\t\tx = x/255\n",
    "\t\tprint('Input image shape:', x.shape)\n",
    "\t\timg_data_list.append(x)"
   ]
  },
  {
   "cell_type": "code",
   "execution_count": 10,
   "metadata": {},
   "outputs": [
    {
     "name": "stdout",
     "output_type": "stream",
     "text": [
      "(273, 1, 112, 112, 3)\n",
      "(1, 273, 112, 112, 3)\n",
      "(273, 112, 112, 3)\n"
     ]
    }
   ],
   "source": [
    "img_data = np.array(img_data_list)\n",
    "#img_data = img_data.astype('float32')\n",
    "print (img_data.shape)\n",
    "img_data=np.rollaxis(img_data,1,0)\n",
    "print (img_data.shape)\n",
    "img_data=img_data[0]\n",
    "print (img_data.shape)\n"
   ]
  },
  {
   "cell_type": "code",
   "execution_count": 11,
   "metadata": {},
   "outputs": [],
   "source": [
    "num_classes = 2\n",
    "num_of_samples = img_data.shape[0]"
   ]
  },
  {
   "cell_type": "code",
   "execution_count": 94,
   "metadata": {},
   "outputs": [
    {
     "name": "stdout",
     "output_type": "stream",
     "text": [
      "[0 0 0 0 0 0 0 0 0 0 0 0 0 0 0 0 0 0 0 0 0 0 0 0 0 0 0 0 0 0 0 0 0 0 0 0 0\n",
      " 0 0 0 0 0 0 0 0 0 0 0 0 0 0 0 0 0 0 0 0 0 0 0 0 0 0 0 0 0 0 0 0 0 0 0 0 0\n",
      " 0 0 0 0 0 0 0 0 0 0 0 0 0 0 0 0 0 0 0 0 0 0 0 0 0 0 0 0 0 0 0 0 0 0 0 0 0\n",
      " 0 0 0 0 0 0 0 0 0 0 1 1 1 1 1 1 1 1 1 1 1 1 1 1 1 1 1 1 1 1 1 1 1 1 1 1 1\n",
      " 1 1 1 1 1 1 1 1 1 1 1 1 1 1 1 1 1 1 1 1 1 1 1 1 1 1 1 1 1 1 1 1 1 1 1 1 1\n",
      " 1 1 1 1 1 1 1 1 1 1 1 1 1 1 1 1 1 1 1 1 1 1 1 1 1 1 1 1 1 1 1 1 1 1 1 1 1\n",
      " 1 1 1 1 1 1 1 1 1 1 1 1 1 1 1 1 1 1 1 1 1 1 1 1 1 1 1 1 1 1 1 1 1 1 1 1 1\n",
      " 1 1 1 1 1 1 1 1 1 1 1 1 1 1]\n"
     ]
    }
   ],
   "source": [
    "labels = np.array([0]*121 +  [1] * 152)\n",
    "labels.shape\n",
    "print(labels)"
   ]
  },
  {
   "cell_type": "code",
   "execution_count": 70,
   "metadata": {},
   "outputs": [],
   "source": [
    "names = ['Empty', 'Product Picked']"
   ]
  },
  {
   "cell_type": "code",
   "execution_count": 95,
   "metadata": {},
   "outputs": [],
   "source": [
    "Y = np_utils.to_categorical(labels, num_classes)"
   ]
  },
  {
   "cell_type": "code",
   "execution_count": 96,
   "metadata": {},
   "outputs": [
    {
     "name": "stdout",
     "output_type": "stream",
     "text": [
      "[[1. 0.]\n",
      " [1. 0.]\n",
      " [1. 0.]\n",
      " [1. 0.]\n",
      " [1. 0.]\n",
      " [0. 1.]\n",
      " [0. 1.]\n",
      " [1. 0.]\n",
      " [1. 0.]\n",
      " [0. 1.]\n",
      " [0. 1.]\n",
      " [1. 0.]\n",
      " [1. 0.]\n",
      " [0. 1.]\n",
      " [1. 0.]\n",
      " [1. 0.]\n",
      " [1. 0.]\n",
      " [0. 1.]\n",
      " [1. 0.]\n",
      " [0. 1.]\n",
      " [0. 1.]\n",
      " [0. 1.]\n",
      " [1. 0.]\n",
      " [0. 1.]\n",
      " [1. 0.]\n",
      " [0. 1.]\n",
      " [0. 1.]\n",
      " [1. 0.]\n",
      " [1. 0.]\n",
      " [0. 1.]\n",
      " [0. 1.]\n",
      " [0. 1.]\n",
      " [0. 1.]\n",
      " [1. 0.]\n",
      " [0. 1.]\n",
      " [0. 1.]\n",
      " [1. 0.]\n",
      " [0. 1.]\n",
      " [0. 1.]\n",
      " [0. 1.]\n",
      " [1. 0.]\n",
      " [1. 0.]\n",
      " [1. 0.]\n",
      " [1. 0.]\n",
      " [0. 1.]\n",
      " [0. 1.]\n",
      " [0. 1.]\n",
      " [0. 1.]\n",
      " [1. 0.]\n",
      " [1. 0.]\n",
      " [0. 1.]\n",
      " [1. 0.]\n",
      " [1. 0.]\n",
      " [0. 1.]\n",
      " [1. 0.]]\n"
     ]
    }
   ],
   "source": [
    "X_train, X_test, y_train, y_test = train_test_split(img_data,Y, test_size=0.2, random_state=2)\n",
    "print(y_test)"
   ]
  },
  {
   "cell_type": "code",
   "execution_count": 85,
   "metadata": {},
   "outputs": [],
   "source": [
    "image_input = Input(shape=(112,112, 3))"
   ]
  },
  {
   "cell_type": "code",
   "execution_count": 86,
   "metadata": {},
   "outputs": [
    {
     "name": "stdout",
     "output_type": "stream",
     "text": [
      "Model: \"vgg16\"\n",
      "_________________________________________________________________\n",
      "Layer (type)                 Output Shape              Param #   \n",
      "=================================================================\n",
      "input_3 (InputLayer)         (None, 112, 112, 3)       0         \n",
      "_________________________________________________________________\n",
      "block1_conv1 (Conv2D)        (None, 112, 112, 64)      1792      \n",
      "_________________________________________________________________\n",
      "block1_conv2 (Conv2D)        (None, 112, 112, 64)      36928     \n",
      "_________________________________________________________________\n",
      "block1_pool (MaxPooling2D)   (None, 56, 56, 64)        0         \n",
      "_________________________________________________________________\n",
      "block2_conv1 (Conv2D)        (None, 56, 56, 128)       73856     \n",
      "_________________________________________________________________\n",
      "block2_conv2 (Conv2D)        (None, 56, 56, 128)       147584    \n",
      "_________________________________________________________________\n",
      "block2_pool (MaxPooling2D)   (None, 28, 28, 128)       0         \n",
      "_________________________________________________________________\n",
      "block3_conv1 (Conv2D)        (None, 28, 28, 256)       295168    \n",
      "_________________________________________________________________\n",
      "block3_conv2 (Conv2D)        (None, 28, 28, 256)       590080    \n",
      "_________________________________________________________________\n",
      "block3_conv3 (Conv2D)        (None, 28, 28, 256)       590080    \n",
      "_________________________________________________________________\n",
      "block3_pool (MaxPooling2D)   (None, 14, 14, 256)       0         \n",
      "_________________________________________________________________\n",
      "block4_conv1 (Conv2D)        (None, 14, 14, 512)       1180160   \n",
      "_________________________________________________________________\n",
      "block4_conv2 (Conv2D)        (None, 14, 14, 512)       2359808   \n",
      "_________________________________________________________________\n",
      "block4_conv3 (Conv2D)        (None, 14, 14, 512)       2359808   \n",
      "_________________________________________________________________\n",
      "block4_pool (MaxPooling2D)   (None, 7, 7, 512)         0         \n",
      "_________________________________________________________________\n",
      "block5_conv1 (Conv2D)        (None, 7, 7, 512)         2359808   \n",
      "_________________________________________________________________\n",
      "block5_conv2 (Conv2D)        (None, 7, 7, 512)         2359808   \n",
      "_________________________________________________________________\n",
      "block5_conv3 (Conv2D)        (None, 7, 7, 512)         2359808   \n",
      "_________________________________________________________________\n",
      "block5_pool (MaxPooling2D)   (None, 3, 3, 512)         0         \n",
      "=================================================================\n",
      "Total params: 14,714,688\n",
      "Trainable params: 14,714,688\n",
      "Non-trainable params: 0\n",
      "_________________________________________________________________\n"
     ]
    }
   ],
   "source": [
    "model = VGG16(include_top=False,weights='imagenet',input_tensor = image_input)\n",
    "model.summary()"
   ]
  },
  {
   "cell_type": "code",
   "execution_count": 87,
   "metadata": {},
   "outputs": [
    {
     "name": "stdout",
     "output_type": "stream",
     "text": [
      "Model: \"model_4\"\n",
      "_________________________________________________________________\n",
      "Layer (type)                 Output Shape              Param #   \n",
      "=================================================================\n",
      "input_3 (InputLayer)         (None, 112, 112, 3)       0         \n",
      "_________________________________________________________________\n",
      "block1_conv1 (Conv2D)        (None, 112, 112, 64)      1792      \n",
      "_________________________________________________________________\n",
      "block1_conv2 (Conv2D)        (None, 112, 112, 64)      36928     \n",
      "_________________________________________________________________\n",
      "block1_pool (MaxPooling2D)   (None, 56, 56, 64)        0         \n",
      "_________________________________________________________________\n",
      "block2_conv1 (Conv2D)        (None, 56, 56, 128)       73856     \n",
      "_________________________________________________________________\n",
      "block2_conv2 (Conv2D)        (None, 56, 56, 128)       147584    \n",
      "_________________________________________________________________\n",
      "block2_pool (MaxPooling2D)   (None, 28, 28, 128)       0         \n",
      "_________________________________________________________________\n",
      "block3_conv1 (Conv2D)        (None, 28, 28, 256)       295168    \n",
      "_________________________________________________________________\n",
      "block3_conv2 (Conv2D)        (None, 28, 28, 256)       590080    \n",
      "_________________________________________________________________\n",
      "block3_conv3 (Conv2D)        (None, 28, 28, 256)       590080    \n",
      "_________________________________________________________________\n",
      "block3_pool (MaxPooling2D)   (None, 14, 14, 256)       0         \n",
      "_________________________________________________________________\n",
      "block4_conv1 (Conv2D)        (None, 14, 14, 512)       1180160   \n",
      "_________________________________________________________________\n",
      "block4_conv2 (Conv2D)        (None, 14, 14, 512)       2359808   \n",
      "_________________________________________________________________\n",
      "block4_conv3 (Conv2D)        (None, 14, 14, 512)       2359808   \n",
      "_________________________________________________________________\n",
      "block4_pool (MaxPooling2D)   (None, 7, 7, 512)         0         \n",
      "_________________________________________________________________\n",
      "block5_conv1 (Conv2D)        (None, 7, 7, 512)         2359808   \n",
      "_________________________________________________________________\n",
      "block5_conv2 (Conv2D)        (None, 7, 7, 512)         2359808   \n",
      "_________________________________________________________________\n",
      "block5_conv3 (Conv2D)        (None, 7, 7, 512)         2359808   \n",
      "_________________________________________________________________\n",
      "block5_pool (MaxPooling2D)   (None, 3, 3, 512)         0         \n",
      "_________________________________________________________________\n",
      "flatten (Flatten)            (None, 4608)              0         \n",
      "_________________________________________________________________\n",
      "fc1 (Dense)                  (None, 128)               589952    \n",
      "_________________________________________________________________\n",
      "fc2 (Dense)                  (None, 128)               16512     \n",
      "_________________________________________________________________\n",
      "output (Dense)               (None, 2)                 258       \n",
      "=================================================================\n",
      "Total params: 15,321,410\n",
      "Trainable params: 15,321,410\n",
      "Non-trainable params: 0\n",
      "_________________________________________________________________\n"
     ]
    }
   ],
   "source": [
    "last_layer = model.get_layer('block5_pool').output\n",
    "x= Flatten(name='flatten')(last_layer)\n",
    "x = Dense(128, activation='relu', name='fc1')(x)\n",
    "x = Dense(128, activation='relu', name='fc2')(x)\n",
    "out = Dense(num_classes, activation='sigmoid', name='output')(x)\n",
    "custom_vgg_model2 = Model(image_input, out)\n",
    "custom_vgg_model2.summary()"
   ]
  },
  {
   "cell_type": "code",
   "execution_count": 88,
   "metadata": {},
   "outputs": [],
   "source": [
    "for layer in custom_vgg_model2.layers[:-3]:\n",
    "\tlayer.trainable = False"
   ]
  },
  {
   "cell_type": "code",
   "execution_count": 89,
   "metadata": {},
   "outputs": [
    {
     "name": "stdout",
     "output_type": "stream",
     "text": [
      "Model: \"model_4\"\n",
      "_________________________________________________________________\n",
      "Layer (type)                 Output Shape              Param #   \n",
      "=================================================================\n",
      "input_3 (InputLayer)         (None, 112, 112, 3)       0         \n",
      "_________________________________________________________________\n",
      "block1_conv1 (Conv2D)        (None, 112, 112, 64)      1792      \n",
      "_________________________________________________________________\n",
      "block1_conv2 (Conv2D)        (None, 112, 112, 64)      36928     \n",
      "_________________________________________________________________\n",
      "block1_pool (MaxPooling2D)   (None, 56, 56, 64)        0         \n",
      "_________________________________________________________________\n",
      "block2_conv1 (Conv2D)        (None, 56, 56, 128)       73856     \n",
      "_________________________________________________________________\n",
      "block2_conv2 (Conv2D)        (None, 56, 56, 128)       147584    \n",
      "_________________________________________________________________\n",
      "block2_pool (MaxPooling2D)   (None, 28, 28, 128)       0         \n",
      "_________________________________________________________________\n",
      "block3_conv1 (Conv2D)        (None, 28, 28, 256)       295168    \n",
      "_________________________________________________________________\n",
      "block3_conv2 (Conv2D)        (None, 28, 28, 256)       590080    \n",
      "_________________________________________________________________\n",
      "block3_conv3 (Conv2D)        (None, 28, 28, 256)       590080    \n",
      "_________________________________________________________________\n",
      "block3_pool (MaxPooling2D)   (None, 14, 14, 256)       0         \n",
      "_________________________________________________________________\n",
      "block4_conv1 (Conv2D)        (None, 14, 14, 512)       1180160   \n",
      "_________________________________________________________________\n",
      "block4_conv2 (Conv2D)        (None, 14, 14, 512)       2359808   \n",
      "_________________________________________________________________\n",
      "block4_conv3 (Conv2D)        (None, 14, 14, 512)       2359808   \n",
      "_________________________________________________________________\n",
      "block4_pool (MaxPooling2D)   (None, 7, 7, 512)         0         \n",
      "_________________________________________________________________\n",
      "block5_conv1 (Conv2D)        (None, 7, 7, 512)         2359808   \n",
      "_________________________________________________________________\n",
      "block5_conv2 (Conv2D)        (None, 7, 7, 512)         2359808   \n",
      "_________________________________________________________________\n",
      "block5_conv3 (Conv2D)        (None, 7, 7, 512)         2359808   \n",
      "_________________________________________________________________\n",
      "block5_pool (MaxPooling2D)   (None, 3, 3, 512)         0         \n",
      "_________________________________________________________________\n",
      "flatten (Flatten)            (None, 4608)              0         \n",
      "_________________________________________________________________\n",
      "fc1 (Dense)                  (None, 128)               589952    \n",
      "_________________________________________________________________\n",
      "fc2 (Dense)                  (None, 128)               16512     \n",
      "_________________________________________________________________\n",
      "output (Dense)               (None, 2)                 258       \n",
      "=================================================================\n",
      "Total params: 15,321,410\n",
      "Trainable params: 606,722\n",
      "Non-trainable params: 14,714,688\n",
      "_________________________________________________________________\n"
     ]
    }
   ],
   "source": [
    "\n",
    "custom_vgg_model2.summary()\n"
   ]
  },
  {
   "cell_type": "code",
   "execution_count": 90,
   "metadata": {},
   "outputs": [],
   "source": [
    "custom_vgg_model2.compile(loss='binary_crossentropy',optimizer='adadelta',metrics=['accuracy'])"
   ]
  },
  {
   "cell_type": "code",
   "execution_count": 91,
   "metadata": {},
   "outputs": [
    {
     "name": "stdout",
     "output_type": "stream",
     "text": [
      "Train on 218 samples, validate on 55 samples\n",
      "Epoch 1/12\n",
      "218/218 [==============================] - 9s 39ms/step - loss: 1.3923 - accuracy: 0.8463 - val_loss: 0.6098 - val_accuracy: 0.9364\n",
      "Epoch 2/12\n",
      "218/218 [==============================] - 9s 41ms/step - loss: 0.0407 - accuracy: 0.9885 - val_loss: 0.6456 - val_accuracy: 0.8818\n",
      "Epoch 3/12\n",
      "218/218 [==============================] - 9s 43ms/step - loss: 0.0096 - accuracy: 0.9954 - val_loss: 0.4296 - val_accuracy: 0.9182\n",
      "Epoch 4/12\n",
      "218/218 [==============================] - 11s 51ms/step - loss: 1.7862e-04 - accuracy: 1.0000 - val_loss: 0.4337 - val_accuracy: 0.9182\n",
      "Epoch 5/12\n",
      "218/218 [==============================] - 11s 50ms/step - loss: 8.6366e-05 - accuracy: 1.0000 - val_loss: 0.4318 - val_accuracy: 0.9182\n",
      "Epoch 6/12\n",
      "218/218 [==============================] - 11s 50ms/step - loss: 6.8395e-05 - accuracy: 1.0000 - val_loss: 0.4295 - val_accuracy: 0.9182\n",
      "Epoch 7/12\n",
      "218/218 [==============================] - 11s 51ms/step - loss: 5.4863e-05 - accuracy: 1.0000 - val_loss: 0.4273 - val_accuracy: 0.9182\n",
      "Epoch 8/12\n",
      "218/218 [==============================] - 11s 52ms/step - loss: 4.4183e-05 - accuracy: 1.0000 - val_loss: 0.4250 - val_accuracy: 0.9182\n",
      "Epoch 9/12\n",
      " 96/218 [============>.................] - ETA: 5s - loss: 4.7425e-05 - accuracy: 1.0000"
     ]
    },
    {
     "ename": "KeyboardInterrupt",
     "evalue": "",
     "output_type": "error",
     "traceback": [
      "\u001b[0;31m---------------------------------------------------------------------------\u001b[0m",
      "\u001b[0;31mKeyboardInterrupt\u001b[0m                         Traceback (most recent call last)",
      "\u001b[0;32m<ipython-input-91-2ec5debfe7f0>\u001b[0m in \u001b[0;36m<module>\u001b[0;34m\u001b[0m\n\u001b[1;32m      1\u001b[0m \u001b[0mbatch_size\u001b[0m \u001b[0;34m=\u001b[0m \u001b[0;36m16\u001b[0m\u001b[0;34m\u001b[0m\u001b[0;34m\u001b[0m\u001b[0m\n\u001b[1;32m      2\u001b[0m \u001b[0mepochs\u001b[0m \u001b[0;34m=\u001b[0m \u001b[0;36m12\u001b[0m\u001b[0;34m\u001b[0m\u001b[0;34m\u001b[0m\u001b[0m\n\u001b[0;32m----> 3\u001b[0;31m \u001b[0mhist\u001b[0m \u001b[0;34m=\u001b[0m \u001b[0mcustom_vgg_model2\u001b[0m\u001b[0;34m.\u001b[0m\u001b[0mfit\u001b[0m\u001b[0;34m(\u001b[0m\u001b[0mX_train\u001b[0m\u001b[0;34m,\u001b[0m \u001b[0my_train\u001b[0m\u001b[0;34m,\u001b[0m \u001b[0mbatch_size\u001b[0m\u001b[0;34m=\u001b[0m\u001b[0mbatch_size\u001b[0m\u001b[0;34m,\u001b[0m \u001b[0mepochs\u001b[0m\u001b[0;34m=\u001b[0m\u001b[0mepochs\u001b[0m\u001b[0;34m,\u001b[0m \u001b[0mvalidation_data\u001b[0m\u001b[0;34m=\u001b[0m\u001b[0;34m(\u001b[0m\u001b[0mX_test\u001b[0m\u001b[0;34m,\u001b[0m \u001b[0my_test\u001b[0m\u001b[0;34m)\u001b[0m\u001b[0;34m)\u001b[0m\u001b[0;34m\u001b[0m\u001b[0;34m\u001b[0m\u001b[0m\n\u001b[0m",
      "\u001b[0;32m~/.local/lib/python3.7/site-packages/keras/engine/training.py\u001b[0m in \u001b[0;36mfit\u001b[0;34m(self, x, y, batch_size, epochs, verbose, callbacks, validation_split, validation_data, shuffle, class_weight, sample_weight, initial_epoch, steps_per_epoch, validation_steps, validation_freq, max_queue_size, workers, use_multiprocessing, **kwargs)\u001b[0m\n\u001b[1;32m   1237\u001b[0m                                         \u001b[0msteps_per_epoch\u001b[0m\u001b[0;34m=\u001b[0m\u001b[0msteps_per_epoch\u001b[0m\u001b[0;34m,\u001b[0m\u001b[0;34m\u001b[0m\u001b[0;34m\u001b[0m\u001b[0m\n\u001b[1;32m   1238\u001b[0m                                         \u001b[0mvalidation_steps\u001b[0m\u001b[0;34m=\u001b[0m\u001b[0mvalidation_steps\u001b[0m\u001b[0;34m,\u001b[0m\u001b[0;34m\u001b[0m\u001b[0;34m\u001b[0m\u001b[0m\n\u001b[0;32m-> 1239\u001b[0;31m                                         validation_freq=validation_freq)\n\u001b[0m\u001b[1;32m   1240\u001b[0m \u001b[0;34m\u001b[0m\u001b[0m\n\u001b[1;32m   1241\u001b[0m     def evaluate(self,\n",
      "\u001b[0;32m~/.local/lib/python3.7/site-packages/keras/engine/training_arrays.py\u001b[0m in \u001b[0;36mfit_loop\u001b[0;34m(model, fit_function, fit_inputs, out_labels, batch_size, epochs, verbose, callbacks, val_function, val_inputs, shuffle, initial_epoch, steps_per_epoch, validation_steps, validation_freq)\u001b[0m\n\u001b[1;32m    194\u001b[0m                     \u001b[0mins_batch\u001b[0m\u001b[0;34m[\u001b[0m\u001b[0mi\u001b[0m\u001b[0;34m]\u001b[0m \u001b[0;34m=\u001b[0m \u001b[0mins_batch\u001b[0m\u001b[0;34m[\u001b[0m\u001b[0mi\u001b[0m\u001b[0;34m]\u001b[0m\u001b[0;34m.\u001b[0m\u001b[0mtoarray\u001b[0m\u001b[0;34m(\u001b[0m\u001b[0;34m)\u001b[0m\u001b[0;34m\u001b[0m\u001b[0;34m\u001b[0m\u001b[0m\n\u001b[1;32m    195\u001b[0m \u001b[0;34m\u001b[0m\u001b[0m\n\u001b[0;32m--> 196\u001b[0;31m                 \u001b[0mouts\u001b[0m \u001b[0;34m=\u001b[0m \u001b[0mfit_function\u001b[0m\u001b[0;34m(\u001b[0m\u001b[0mins_batch\u001b[0m\u001b[0;34m)\u001b[0m\u001b[0;34m\u001b[0m\u001b[0;34m\u001b[0m\u001b[0m\n\u001b[0m\u001b[1;32m    197\u001b[0m                 \u001b[0mouts\u001b[0m \u001b[0;34m=\u001b[0m \u001b[0mto_list\u001b[0m\u001b[0;34m(\u001b[0m\u001b[0mouts\u001b[0m\u001b[0;34m)\u001b[0m\u001b[0;34m\u001b[0m\u001b[0;34m\u001b[0m\u001b[0m\n\u001b[1;32m    198\u001b[0m                 \u001b[0;32mfor\u001b[0m \u001b[0ml\u001b[0m\u001b[0;34m,\u001b[0m \u001b[0mo\u001b[0m \u001b[0;32min\u001b[0m \u001b[0mzip\u001b[0m\u001b[0;34m(\u001b[0m\u001b[0mout_labels\u001b[0m\u001b[0;34m,\u001b[0m \u001b[0mouts\u001b[0m\u001b[0;34m)\u001b[0m\u001b[0;34m:\u001b[0m\u001b[0;34m\u001b[0m\u001b[0;34m\u001b[0m\u001b[0m\n",
      "\u001b[0;32m~/.local/lib/python3.7/site-packages/tensorflow/python/keras/backend.py\u001b[0m in \u001b[0;36m__call__\u001b[0;34m(self, inputs)\u001b[0m\n\u001b[1;32m   3290\u001b[0m \u001b[0;34m\u001b[0m\u001b[0m\n\u001b[1;32m   3291\u001b[0m     fetched = self._callable_fn(*array_vals,\n\u001b[0;32m-> 3292\u001b[0;31m                                 run_metadata=self.run_metadata)\n\u001b[0m\u001b[1;32m   3293\u001b[0m     \u001b[0mself\u001b[0m\u001b[0;34m.\u001b[0m\u001b[0m_call_fetch_callbacks\u001b[0m\u001b[0;34m(\u001b[0m\u001b[0mfetched\u001b[0m\u001b[0;34m[\u001b[0m\u001b[0;34m-\u001b[0m\u001b[0mlen\u001b[0m\u001b[0;34m(\u001b[0m\u001b[0mself\u001b[0m\u001b[0;34m.\u001b[0m\u001b[0m_fetches\u001b[0m\u001b[0;34m)\u001b[0m\u001b[0;34m:\u001b[0m\u001b[0;34m]\u001b[0m\u001b[0;34m)\u001b[0m\u001b[0;34m\u001b[0m\u001b[0;34m\u001b[0m\u001b[0m\n\u001b[1;32m   3294\u001b[0m     output_structure = nest.pack_sequence_as(\n",
      "\u001b[0;32m~/.local/lib/python3.7/site-packages/tensorflow/python/client/session.py\u001b[0m in \u001b[0;36m__call__\u001b[0;34m(self, *args, **kwargs)\u001b[0m\n\u001b[1;32m   1456\u001b[0m         ret = tf_session.TF_SessionRunCallable(self._session._session,\n\u001b[1;32m   1457\u001b[0m                                                \u001b[0mself\u001b[0m\u001b[0;34m.\u001b[0m\u001b[0m_handle\u001b[0m\u001b[0;34m,\u001b[0m \u001b[0margs\u001b[0m\u001b[0;34m,\u001b[0m\u001b[0;34m\u001b[0m\u001b[0;34m\u001b[0m\u001b[0m\n\u001b[0;32m-> 1458\u001b[0;31m                                                run_metadata_ptr)\n\u001b[0m\u001b[1;32m   1459\u001b[0m         \u001b[0;32mif\u001b[0m \u001b[0mrun_metadata\u001b[0m\u001b[0;34m:\u001b[0m\u001b[0;34m\u001b[0m\u001b[0;34m\u001b[0m\u001b[0m\n\u001b[1;32m   1460\u001b[0m           \u001b[0mproto_data\u001b[0m \u001b[0;34m=\u001b[0m \u001b[0mtf_session\u001b[0m\u001b[0;34m.\u001b[0m\u001b[0mTF_GetBuffer\u001b[0m\u001b[0;34m(\u001b[0m\u001b[0mrun_metadata_ptr\u001b[0m\u001b[0;34m)\u001b[0m\u001b[0;34m\u001b[0m\u001b[0;34m\u001b[0m\u001b[0m\n",
      "\u001b[0;31mKeyboardInterrupt\u001b[0m: "
     ]
    }
   ],
   "source": [
    "batch_size = 16\n",
    "epochs = 12\n",
    "hist = custom_vgg_model2.fit(X_train, y_train, batch_size=batch_size, epochs=epochs, validation_data=(X_test, y_test))"
   ]
  },
  {
   "cell_type": "code",
   "execution_count": 92,
   "metadata": {},
   "outputs": [
    {
     "data": {
      "text/plain": [
       "(218, 112, 112, 3)"
      ]
     },
     "execution_count": 92,
     "metadata": {},
     "output_type": "execute_result"
    }
   ],
   "source": [
    "X_train.shape"
   ]
  },
  {
   "cell_type": "code",
   "execution_count": 93,
   "metadata": {},
   "outputs": [
    {
     "name": "stdout",
     "output_type": "stream",
     "text": [
      "[0 0 0 0 0 1 1 0 0 1 1 0 0 1 0 0 0 1 0 1 0 1 0 1 0 1 1 0 0 1 1 1 1 0 1 1 0\n",
      " 1 1 0 0 0 0 1 1 1 1 1 1 0 1 0 0 1 0]\n"
     ]
    }
   ],
   "source": [
    "y_pred = custom_vgg_model2.predict(X_test)\n",
    "y_pred = np.argmax(y_pred,axis=1)\n",
    "print(y_pred)"
   ]
  },
  {
   "cell_type": "code",
   "execution_count": 37,
   "metadata": {},
   "outputs": [],
   "source": [
    "classes = [\"Class 0\",\"Class 1\"]"
   ]
  },
  {
   "cell_type": "code",
   "execution_count": 99,
   "metadata": {},
   "outputs": [
    {
     "ename": "ValueError",
     "evalue": "Classification metrics can't handle a mix of multilabel-indicator and binary targets",
     "output_type": "error",
     "traceback": [
      "\u001b[0;31m---------------------------------------------------------------------------\u001b[0m",
      "\u001b[0;31mValueError\u001b[0m                                Traceback (most recent call last)",
      "\u001b[0;32m<ipython-input-99-5da5a2b2b816>\u001b[0m in \u001b[0;36m<module>\u001b[0;34m\u001b[0m\n\u001b[1;32m      1\u001b[0m print(classification_report(y_test,\n\u001b[0;32m----> 2\u001b[0;31m \ty_pred, target_names=classes))\n\u001b[0m",
      "\u001b[0;32m~/.local/lib/python3.7/site-packages/sklearn/metrics/_classification.py\u001b[0m in \u001b[0;36mclassification_report\u001b[0;34m(y_true, y_pred, labels, target_names, sample_weight, digits, output_dict, zero_division)\u001b[0m\n\u001b[1;32m   1969\u001b[0m     \"\"\"\n\u001b[1;32m   1970\u001b[0m \u001b[0;34m\u001b[0m\u001b[0m\n\u001b[0;32m-> 1971\u001b[0;31m     \u001b[0my_type\u001b[0m\u001b[0;34m,\u001b[0m \u001b[0my_true\u001b[0m\u001b[0;34m,\u001b[0m \u001b[0my_pred\u001b[0m \u001b[0;34m=\u001b[0m \u001b[0m_check_targets\u001b[0m\u001b[0;34m(\u001b[0m\u001b[0my_true\u001b[0m\u001b[0;34m,\u001b[0m \u001b[0my_pred\u001b[0m\u001b[0;34m)\u001b[0m\u001b[0;34m\u001b[0m\u001b[0;34m\u001b[0m\u001b[0m\n\u001b[0m\u001b[1;32m   1972\u001b[0m \u001b[0;34m\u001b[0m\u001b[0m\n\u001b[1;32m   1973\u001b[0m     \u001b[0mlabels_given\u001b[0m \u001b[0;34m=\u001b[0m \u001b[0;32mTrue\u001b[0m\u001b[0;34m\u001b[0m\u001b[0;34m\u001b[0m\u001b[0m\n",
      "\u001b[0;32m~/.local/lib/python3.7/site-packages/sklearn/metrics/_classification.py\u001b[0m in \u001b[0;36m_check_targets\u001b[0;34m(y_true, y_pred)\u001b[0m\n\u001b[1;32m     88\u001b[0m     \u001b[0;32mif\u001b[0m \u001b[0mlen\u001b[0m\u001b[0;34m(\u001b[0m\u001b[0my_type\u001b[0m\u001b[0;34m)\u001b[0m \u001b[0;34m>\u001b[0m \u001b[0;36m1\u001b[0m\u001b[0;34m:\u001b[0m\u001b[0;34m\u001b[0m\u001b[0;34m\u001b[0m\u001b[0m\n\u001b[1;32m     89\u001b[0m         raise ValueError(\"Classification metrics can't handle a mix of {0} \"\n\u001b[0;32m---> 90\u001b[0;31m                          \"and {1} targets\".format(type_true, type_pred))\n\u001b[0m\u001b[1;32m     91\u001b[0m \u001b[0;34m\u001b[0m\u001b[0m\n\u001b[1;32m     92\u001b[0m     \u001b[0;31m# We can't have more than one value on y_type => The set is no more needed\u001b[0m\u001b[0;34m\u001b[0m\u001b[0;34m\u001b[0m\u001b[0;34m\u001b[0m\u001b[0m\n",
      "\u001b[0;31mValueError\u001b[0m: Classification metrics can't handle a mix of multilabel-indicator and binary targets"
     ]
    }
   ],
   "source": [
    "\n",
    "print(classification_report(y_test,y_pred,target_names=classes))\n"
   ]
  },
  {
   "cell_type": "code",
   "execution_count": 47,
   "metadata": {},
   "outputs": [
    {
     "data": {
      "text/plain": [
       "(55, 112, 112, 3)"
      ]
     },
     "execution_count": 47,
     "metadata": {},
     "output_type": "execute_result"
    }
   ],
   "source": [
    "X_test.shape"
   ]
  },
  {
   "cell_type": "code",
   "execution_count": 48,
   "metadata": {},
   "outputs": [
    {
     "data": {
      "text/plain": [
       "(218, 2)"
      ]
     },
     "execution_count": 48,
     "metadata": {},
     "output_type": "execute_result"
    }
   ],
   "source": [
    "y_train.shape"
   ]
  },
  {
   "cell_type": "code",
   "execution_count": 49,
   "metadata": {},
   "outputs": [
    {
     "data": {
      "text/plain": [
       "(55, 2)"
      ]
     },
     "execution_count": 49,
     "metadata": {},
     "output_type": "execute_result"
    }
   ],
   "source": [
    "y_test.shape"
   ]
  },
  {
   "cell_type": "code",
   "execution_count": 58,
   "metadata": {},
   "outputs": [],
   "source": [
    "custom_vgg_model2.save('/home/varshi/Documents/hand/CNN.h5')"
   ]
  },
  {
   "cell_type": "code",
   "execution_count": null,
   "metadata": {},
   "outputs": [],
   "source": []
  }
 ],
 "metadata": {
  "kernelspec": {
   "display_name": "Python 3",
   "language": "python",
   "name": "python3"
  },
  "language_info": {
   "codemirror_mode": {
    "name": "ipython",
    "version": 3
   },
   "file_extension": ".py",
   "mimetype": "text/x-python",
   "name": "python",
   "nbconvert_exporter": "python",
   "pygments_lexer": "ipython3",
   "version": "3.7.5"
  }
 },
 "nbformat": 4,
 "nbformat_minor": 4
}
